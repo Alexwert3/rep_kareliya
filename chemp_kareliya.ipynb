{
 "cells": [
  {
   "cell_type": "markdown",
   "id": "1ddc80f8",
   "metadata": {},
   "source": [
    "# ЦИФРОВОЙ ПРОРЫВ 2022"
   ]
  },
  {
   "cell_type": "markdown",
   "id": "09197c34",
   "metadata": {},
   "source": [
    "# Чемпионат в республике Карелия"
   ]
  },
  {
   "cell_type": "markdown",
   "id": "1097f88a",
   "metadata": {},
   "source": [
    "## Прогнозирование оттока пользователей провайдера телекоммуникационных услуг\n",
    "\n",
    "Сфера телекоммуникаций — высококонкурентная динамичная среда, в которой уровень осведомленности пользователей позволяет легко получить информацию о других поставщиках услуг с аналогичным или наиболее высоким качеством по более выгодной цене. Отсюда и возникает проблема оттока пользователей.\n",
    "\n",
    "Для любого провайдера важным аспектом является пользовательская база. В нее поступают новые пользователи, какое-то время активно потребляют услуги и через некоторый промежуток времени перестают, этот промежуток называется «жизненный цикл клиента». Отток пользователей выражается в сокращении пользовательской базы и снижении показателей выручки.\n",
    "\n",
    "Анализ пользовательского поведения и удержание пользователей важно по ряду причин: - понимание причин ухода пользователей — ключ к улучшению продуктов и услуг. В современном мире темпы роста постоянно ускоряются, рынок заполнен огромным количеством конкурентов, что приводит к постоянному повышению требований потребителей к продукции и услугам; - привлечение новых пользователей дороже процедур удержания. На привлечение новых пользователей, как правило, нужно заложить рекламный бюджет, в то время как существующих можно активизировать специальным предложением с особыми условиями.\n",
    "\n",
    "Анализ данных о пользовательском поведении по косвенным признакам — одна из самых востребованных на сегодняшний день технологий не только у бизнеса, но и у государственных структур. Она позволит определять востребованные пользователем услуги, а также поможет в реализации персонализированного уникального подхода к запросам граждан."
   ]
  },
  {
   "cell_type": "markdown",
   "id": "60c0f0a3",
   "metadata": {},
   "source": [
    "# Описание задачи\n",
    "\n",
    "\n",
    "**Задача: создать решение по прогнозированию оттока с использованием данных о клиентах.**\n",
    "\n",
    "В нашем распоряжении находятся файлы с информацией о запросах пользователей к сайтам конкурентов и история обращений в компанию.\n",
    "\n",
    "Описание входных значений:\n",
    "\n",
    "файл **train.csv** — содержит данные пользователей (для обучения модели):\n",
    "* ***contract_id*** - идентификатор пользователя (контракта пользователя)\n",
    "* ***blocked:***:  1 - клиент ушел, 0 - остался\n",
    "\n",
    "файл **log.csv**  — содержит данные обращения пользователей:\n",
    "* ***contract_id*** - идентификатор пользователя (контракта пользователя)\n",
    "* ***event_date*** - дата обращения пользователя\n",
    "* ***event_type*** - тип обращения пользователя\n",
    "\n",
    "файл **named.csv** — содержит лог днс-запросов к доменам конкурентов (rt.ru и sampo.ru):\n",
    "* ***contract_id*** - идентификатор пользователя (контракта пользователя)\n",
    "* ***date*** - дата сеанса пользователя\n",
    "* ***url*** - адрес сайта\n",
    "\n",
    "файл **type contract.csv** - содержит тип списания у пользователей:\n",
    "* ***contract_id*** - идентификатор пользователя (контракта пользователя)\n",
    "* ***day_or_month_contract*** 1 - посуточная, 0 - помесячная\n",
    "\n",
    "файл **sample_solution.csv** — содержит данные с **contract_id** пользователей (для тестирования модели) и одновременно является файлом - примером для отправки результата.\n",
    "\n",
    "**В качестве метрики выступает Recall по столбцу blocked.**\n"
   ]
  },
  {
   "cell_type": "markdown",
   "id": "b4ba5c53",
   "metadata": {},
   "source": [
    "# Этапы реализации:\n",
    "1. Провести обзор и анализ предоставленных данных.\n",
    "2. Определить и сформировать признаки для обучающей выборки (feature extraction & feature engineering). \n",
    "3. Устранить дисбаланс классов в выборке, при его наличии (oversampling).\n",
    "4. Определить модель машинного обучения: алгоритм, обучение, кросс-валидация (machine learning).\n",
    "5. Сформировать результат по тестовой выборке (submit)."
   ]
  },
  {
   "cell_type": "markdown",
   "id": "40a68668",
   "metadata": {},
   "source": [
    "# 1. Обзор и анализ данных"
   ]
  },
  {
   "cell_type": "markdown",
   "id": "c328930b",
   "metadata": {},
   "source": [
    "**Импортируем все, необходимые библиотеки и модули**"
   ]
  },
  {
   "cell_type": "code",
   "execution_count": 1,
   "id": "a6f32a22",
   "metadata": {},
   "outputs": [],
   "source": [
    "import time\n",
    "import numpy as np\n",
    "import pandas as pd\n",
    "import seaborn as sns\n",
    "import matplotlib.pyplot as plt\n",
    "\n",
    "from sklearn.metrics import recall_score, confusion_matrix\n",
    "from sklearn.model_selection import GridSearchCV, train_test_split, cross_val_score, cross_val_predict\n",
    "\n",
    "from sklearn.linear_model import LogisticRegression\n",
    "from sklearn.neighbors import KNeighborsClassifier\n",
    "from sklearn.naive_bayes import GaussianNB\n",
    "from sklearn.svm import SVC\n",
    "from sklearn.ensemble import RandomForestClassifier\n",
    "\n",
    "from imblearn.over_sampling import BorderlineSMOTE\n",
    "\n",
    "from xgboost import XGBClassifier\n",
    "from catboost import CatBoostClassifier\n",
    "\n",
    "%matplotlib inline"
   ]
  },
  {
   "cell_type": "markdown",
   "id": "0eaaa579",
   "metadata": {},
   "source": [
    "**Загрузка данных в датафреймы (файлы должны быть расположены в директории данного решения, либо необходимо указать соответствующие пути к файлам)**"
   ]
  },
  {
   "cell_type": "code",
   "execution_count": 2,
   "id": "f776d4ae",
   "metadata": {},
   "outputs": [
    {
     "name": "stdout",
     "output_type": "stream",
     "text": [
      "Wall time: 3.5 s\n"
     ]
    }
   ],
   "source": [
    "%%time\n",
    "train_df = pd.read_csv('train.csv')\n",
    "test_df = pd.read_csv('sample_solution.csv')\n",
    "named_df = pd.read_csv('named.csv')\n",
    "type_contract_df = pd.read_csv('type_contract.csv')\n",
    "log_df = pd.read_csv('log.csv')"
   ]
  },
  {
   "cell_type": "code",
   "execution_count": 3,
   "id": "e2a76e7b",
   "metadata": {},
   "outputs": [
    {
     "name": "stdout",
     "output_type": "stream",
     "text": [
      "<class 'pandas.core.frame.DataFrame'>\n",
      "RangeIndex: 5992 entries, 0 to 5991\n",
      "Data columns (total 2 columns):\n",
      " #   Column       Non-Null Count  Dtype\n",
      "---  ------       --------------  -----\n",
      " 0   contract_id  5992 non-null   int64\n",
      " 1   blocked      5992 non-null   int64\n",
      "dtypes: int64(2)\n",
      "memory usage: 93.8 KB\n"
     ]
    }
   ],
   "source": [
    "train_df.info() # смотрим общее описание"
   ]
  },
  {
   "cell_type": "code",
   "execution_count": 4,
   "id": "a26c6576",
   "metadata": {},
   "outputs": [
    {
     "data": {
      "text/html": [
       "<div>\n",
       "<style scoped>\n",
       "    .dataframe tbody tr th:only-of-type {\n",
       "        vertical-align: middle;\n",
       "    }\n",
       "\n",
       "    .dataframe tbody tr th {\n",
       "        vertical-align: top;\n",
       "    }\n",
       "\n",
       "    .dataframe thead th {\n",
       "        text-align: right;\n",
       "    }\n",
       "</style>\n",
       "<table border=\"1\" class=\"dataframe\">\n",
       "  <thead>\n",
       "    <tr style=\"text-align: right;\">\n",
       "      <th></th>\n",
       "      <th>contract_id</th>\n",
       "      <th>blocked</th>\n",
       "    </tr>\n",
       "  </thead>\n",
       "  <tbody>\n",
       "    <tr>\n",
       "      <th>0</th>\n",
       "      <td>7780</td>\n",
       "      <td>0</td>\n",
       "    </tr>\n",
       "    <tr>\n",
       "      <th>1</th>\n",
       "      <td>7785</td>\n",
       "      <td>0</td>\n",
       "    </tr>\n",
       "    <tr>\n",
       "      <th>2</th>\n",
       "      <td>7794</td>\n",
       "      <td>0</td>\n",
       "    </tr>\n",
       "  </tbody>\n",
       "</table>\n",
       "</div>"
      ],
      "text/plain": [
       "   contract_id  blocked\n",
       "0         7780        0\n",
       "1         7785        0\n",
       "2         7794        0"
      ]
     },
     "execution_count": 4,
     "metadata": {},
     "output_type": "execute_result"
    }
   ],
   "source": [
    "train_df.head(3) # смотрим первые записи "
   ]
  },
  {
   "cell_type": "code",
   "execution_count": 5,
   "id": "ca1ea75d",
   "metadata": {},
   "outputs": [
    {
     "data": {
      "image/png": "[encoded data removed]",
      "text/plain": [
       "<Figure size 432x360 with 1 Axes>"
      ]
     },
     "metadata": {
      "needs_background": "light"
     },
     "output_type": "display_data"
    }
   ],
   "source": [
    "plt.subplots(figsize=(6, 5))\n",
    "ax = sns.countplot(x=train_df['blocked'])\n",
    "abs_values = train_df['blocked'].value_counts(ascending=False)\n",
    "rel_values = train_df['blocked'].value_counts(ascending=False, normalize=True).values * 100\n",
    "lbls = [f'{p[0]} ({p[1]:.1f}%)' for p in zip(abs_values, rel_values)]\n",
    "ax.bar_label(container=ax.containers[0], labels=lbls)\n",
    "plt.setp(ax, xlabel=None, ylabel=None, title='Распределение оттока клиентов')\n",
    "plt.show()"
   ]
  },
  {
   "cell_type": "code",
   "execution_count": 6,
   "id": "c7120927",
   "metadata": {},
   "outputs": [
    {
     "name": "stdout",
     "output_type": "stream",
     "text": [
      "<class 'pandas.core.frame.DataFrame'>\n",
      "RangeIndex: 810 entries, 0 to 809\n",
      "Data columns (total 2 columns):\n",
      " #   Column       Non-Null Count  Dtype\n",
      "---  ------       --------------  -----\n",
      " 0   contract_id  810 non-null    int64\n",
      " 1   blocked      810 non-null    int64\n",
      "dtypes: int64(2)\n",
      "memory usage: 12.8 KB\n"
     ]
    }
   ],
   "source": [
    "test_df.info() # смотрим общее описание"
   ]
  },
  {
   "cell_type": "code",
   "execution_count": 7,
   "id": "6e01e74f",
   "metadata": {},
   "outputs": [
    {
     "data": {
      "text/html": [
       "<div>\n",
       "<style scoped>\n",
       "    .dataframe tbody tr th:only-of-type {\n",
       "        vertical-align: middle;\n",
       "    }\n",
       "\n",
       "    .dataframe tbody tr th {\n",
       "        vertical-align: top;\n",
       "    }\n",
       "\n",
       "    .dataframe thead th {\n",
       "        text-align: right;\n",
       "    }\n",
       "</style>\n",
       "<table border=\"1\" class=\"dataframe\">\n",
       "  <thead>\n",
       "    <tr style=\"text-align: right;\">\n",
       "      <th></th>\n",
       "      <th>contract_id</th>\n",
       "      <th>blocked</th>\n",
       "    </tr>\n",
       "  </thead>\n",
       "  <tbody>\n",
       "    <tr>\n",
       "      <th>0</th>\n",
       "      <td>3453</td>\n",
       "      <td>0</td>\n",
       "    </tr>\n",
       "    <tr>\n",
       "      <th>1</th>\n",
       "      <td>3454</td>\n",
       "      <td>0</td>\n",
       "    </tr>\n",
       "    <tr>\n",
       "      <th>2</th>\n",
       "      <td>3455</td>\n",
       "      <td>0</td>\n",
       "    </tr>\n",
       "  </tbody>\n",
       "</table>\n",
       "</div>"
      ],
      "text/plain": [
       "   contract_id  blocked\n",
       "0         3453        0\n",
       "1         3454        0\n",
       "2         3455        0"
      ]
     },
     "execution_count": 7,
     "metadata": {},
     "output_type": "execute_result"
    }
   ],
   "source": [
    "test_df.head(3) # смотрим первые записи "
   ]
  },
  {
   "cell_type": "code",
   "execution_count": 8,
   "id": "2a2d607d",
   "metadata": {},
   "outputs": [
    {
     "name": "stdout",
     "output_type": "stream",
     "text": [
      "<class 'pandas.core.frame.DataFrame'>\n",
      "RangeIndex: 10646537 entries, 0 to 10646536\n",
      "Data columns (total 3 columns):\n",
      " #   Column       Dtype \n",
      "---  ------       ----- \n",
      " 0   date         object\n",
      " 1   url          object\n",
      " 2   contract_id  int64 \n",
      "dtypes: int64(1), object(2)\n",
      "memory usage: 243.7+ MB\n"
     ]
    }
   ],
   "source": [
    "named_df.info() # смотрим общее описание"
   ]
  },
  {
   "cell_type": "code",
   "execution_count": 9,
   "id": "c57534ec",
   "metadata": {},
   "outputs": [
    {
     "data": {
      "text/html": [
       "<div>\n",
       "<style scoped>\n",
       "    .dataframe tbody tr th:only-of-type {\n",
       "        vertical-align: middle;\n",
       "    }\n",
       "\n",
       "    .dataframe tbody tr th {\n",
       "        vertical-align: top;\n",
       "    }\n",
       "\n",
       "    .dataframe thead th {\n",
       "        text-align: right;\n",
       "    }\n",
       "</style>\n",
       "<table border=\"1\" class=\"dataframe\">\n",
       "  <thead>\n",
       "    <tr style=\"text-align: right;\">\n",
       "      <th></th>\n",
       "      <th>date</th>\n",
       "      <th>url</th>\n",
       "      <th>contract_id</th>\n",
       "    </tr>\n",
       "  </thead>\n",
       "  <tbody>\n",
       "    <tr>\n",
       "      <th>0</th>\n",
       "      <td>17-Apr-2021</td>\n",
       "      <td>webmail.sampo.ru</td>\n",
       "      <td>101397</td>\n",
       "    </tr>\n",
       "    <tr>\n",
       "      <th>1</th>\n",
       "      <td>17-Apr-2021</td>\n",
       "      <td>webmail.sampo.ru</td>\n",
       "      <td>179624</td>\n",
       "    </tr>\n",
       "    <tr>\n",
       "      <th>2</th>\n",
       "      <td>17-Apr-2021</td>\n",
       "      <td>tvip-provision.sampo.ru</td>\n",
       "      <td>190335</td>\n",
       "    </tr>\n",
       "  </tbody>\n",
       "</table>\n",
       "</div>"
      ],
      "text/plain": [
       "          date                      url  contract_id\n",
       "0  17-Apr-2021         webmail.sampo.ru       101397\n",
       "1  17-Apr-2021         webmail.sampo.ru       179624\n",
       "2  17-Apr-2021  tvip-provision.sampo.ru       190335"
      ]
     },
     "execution_count": 9,
     "metadata": {},
     "output_type": "execute_result"
    }
   ],
   "source": [
    "named_df.head(3) # смотрим первые записи "
   ]
  },
  {
   "cell_type": "code",
   "execution_count": 10,
   "id": "e291efd6",
   "metadata": {},
   "outputs": [
    {
     "name": "stdout",
     "output_type": "stream",
     "text": [
      "<class 'pandas.core.frame.DataFrame'>\n",
      "RangeIndex: 25274 entries, 0 to 25273\n",
      "Data columns (total 3 columns):\n",
      " #   Column       Non-Null Count  Dtype \n",
      "---  ------       --------------  ----- \n",
      " 0   contract_id  25274 non-null  int64 \n",
      " 1   event_date   25274 non-null  object\n",
      " 2   event_type   25274 non-null  object\n",
      "dtypes: int64(1), object(2)\n",
      "memory usage: 592.5+ KB\n"
     ]
    }
   ],
   "source": [
    "log_df.info() # смотрим общее описание"
   ]
  },
  {
   "cell_type": "code",
   "execution_count": 11,
   "id": "f753195d",
   "metadata": {},
   "outputs": [
    {
     "data": {
      "text/html": [
       "<div>\n",
       "<style scoped>\n",
       "    .dataframe tbody tr th:only-of-type {\n",
       "        vertical-align: middle;\n",
       "    }\n",
       "\n",
       "    .dataframe tbody tr th {\n",
       "        vertical-align: top;\n",
       "    }\n",
       "\n",
       "    .dataframe thead th {\n",
       "        text-align: right;\n",
       "    }\n",
       "</style>\n",
       "<table border=\"1\" class=\"dataframe\">\n",
       "  <thead>\n",
       "    <tr style=\"text-align: right;\">\n",
       "      <th></th>\n",
       "      <th>contract_id</th>\n",
       "      <th>event_date</th>\n",
       "      <th>event_type</th>\n",
       "    </tr>\n",
       "  </thead>\n",
       "  <tbody>\n",
       "    <tr>\n",
       "      <th>0</th>\n",
       "      <td>36294</td>\n",
       "      <td>2021-03-28 16:24:30</td>\n",
       "      <td>Добавление в Обращались с номеров</td>\n",
       "    </tr>\n",
       "    <tr>\n",
       "      <th>1</th>\n",
       "      <td>36294</td>\n",
       "      <td>2021-03-28 16:27:41</td>\n",
       "      <td>Обращение в службу заботы о клиентах</td>\n",
       "    </tr>\n",
       "    <tr>\n",
       "      <th>2</th>\n",
       "      <td>36294</td>\n",
       "      <td>2021-03-28 16:29:56</td>\n",
       "      <td>Выключение IPTV-пакета</td>\n",
       "    </tr>\n",
       "  </tbody>\n",
       "</table>\n",
       "</div>"
      ],
      "text/plain": [
       "   contract_id           event_date                            event_type\n",
       "0        36294  2021-03-28 16:24:30     Добавление в Обращались с номеров\n",
       "1        36294  2021-03-28 16:27:41  Обращение в службу заботы о клиентах\n",
       "2        36294  2021-03-28 16:29:56                Выключение IPTV-пакета"
      ]
     },
     "execution_count": 11,
     "metadata": {},
     "output_type": "execute_result"
    }
   ],
   "source": [
    "log_df.head(3) # смотрим первые записи "
   ]
  },
  {
   "cell_type": "code",
   "execution_count": 12,
   "id": "cc7ff857",
   "metadata": {},
   "outputs": [
    {
     "data": {
      "text/plain": [
       "105"
      ]
     },
     "execution_count": 12,
     "metadata": {},
     "output_type": "execute_result"
    }
   ],
   "source": [
    "log_df.event_type.nunique() # всего разных типов обращений"
   ]
  },
  {
   "cell_type": "code",
   "execution_count": 13,
   "id": "6a3f46f9",
   "metadata": {},
   "outputs": [
    {
     "name": "stdout",
     "output_type": "stream",
     "text": [
      "<class 'pandas.core.frame.DataFrame'>\n",
      "RangeIndex: 6805 entries, 0 to 6804\n",
      "Data columns (total 2 columns):\n",
      " #   Column                 Non-Null Count  Dtype\n",
      "---  ------                 --------------  -----\n",
      " 0   contract_id            6805 non-null   int64\n",
      " 1   day_or_month_contract  6805 non-null   int64\n",
      "dtypes: int64(2)\n",
      "memory usage: 106.5 KB\n"
     ]
    }
   ],
   "source": [
    "type_contract_df.info() # смотрим общее описание"
   ]
  },
  {
   "cell_type": "code",
   "execution_count": 14,
   "id": "a0628c01",
   "metadata": {},
   "outputs": [
    {
     "data": {
      "text/html": [
       "<div>\n",
       "<style scoped>\n",
       "    .dataframe tbody tr th:only-of-type {\n",
       "        vertical-align: middle;\n",
       "    }\n",
       "\n",
       "    .dataframe tbody tr th {\n",
       "        vertical-align: top;\n",
       "    }\n",
       "\n",
       "    .dataframe thead th {\n",
       "        text-align: right;\n",
       "    }\n",
       "</style>\n",
       "<table border=\"1\" class=\"dataframe\">\n",
       "  <thead>\n",
       "    <tr style=\"text-align: right;\">\n",
       "      <th></th>\n",
       "      <th>contract_id</th>\n",
       "      <th>day_or_month_contract</th>\n",
       "    </tr>\n",
       "  </thead>\n",
       "  <tbody>\n",
       "    <tr>\n",
       "      <th>0</th>\n",
       "      <td>7780</td>\n",
       "      <td>0</td>\n",
       "    </tr>\n",
       "    <tr>\n",
       "      <th>1</th>\n",
       "      <td>3996</td>\n",
       "      <td>0</td>\n",
       "    </tr>\n",
       "    <tr>\n",
       "      <th>2</th>\n",
       "      <td>7785</td>\n",
       "      <td>0</td>\n",
       "    </tr>\n",
       "  </tbody>\n",
       "</table>\n",
       "</div>"
      ],
      "text/plain": [
       "   contract_id  day_or_month_contract\n",
       "0         7780                      0\n",
       "1         3996                      0\n",
       "2         7785                      0"
      ]
     },
     "execution_count": 14,
     "metadata": {},
     "output_type": "execute_result"
    }
   ],
   "source": [
    "type_contract_df.head(3) # смотрим первые записи "
   ]
  },
  {
   "cell_type": "markdown",
   "id": "b94c13b7",
   "metadata": {},
   "source": [
    "**Из описания файлов и датафреймов делаем два вывода**\n",
    "* все новые признаки для обучающей и тестовой выборок возможно конкатенировать по столбцу **contract_id**\n",
    "* присутствует явный дисбаланс классов в обучающем наборе (5294 - 0 и 698 - 1), запомним и постараемся учесть это при обучении модели "
   ]
  },
  {
   "cell_type": "markdown",
   "id": "fbfea9ae",
   "metadata": {},
   "source": [
    "# 2. Feature extraction & Feature engineering"
   ]
  },
  {
   "cell_type": "markdown",
   "id": "42038f8c",
   "metadata": {},
   "source": [
    "## 2.1. Объединение обучающей и тестовой выборки\n",
    "Объедеиним данный в общий датафрейм, затем будем наполнять его признаками (features), запомним позицию **5992** для последующего разделения данных"
   ]
  },
  {
   "cell_type": "code",
   "execution_count": 15,
   "id": "278ba202",
   "metadata": {},
   "outputs": [
    {
     "data": {
      "text/html": [
       "<div>\n",
       "<style scoped>\n",
       "    .dataframe tbody tr th:only-of-type {\n",
       "        vertical-align: middle;\n",
       "    }\n",
       "\n",
       "    .dataframe tbody tr th {\n",
       "        vertical-align: top;\n",
       "    }\n",
       "\n",
       "    .dataframe thead th {\n",
       "        text-align: right;\n",
       "    }\n",
       "</style>\n",
       "<table border=\"1\" class=\"dataframe\">\n",
       "  <thead>\n",
       "    <tr style=\"text-align: right;\">\n",
       "      <th></th>\n",
       "      <th>contract_id</th>\n",
       "      <th>blocked</th>\n",
       "    </tr>\n",
       "  </thead>\n",
       "  <tbody>\n",
       "    <tr>\n",
       "      <th>0</th>\n",
       "      <td>7780</td>\n",
       "      <td>0</td>\n",
       "    </tr>\n",
       "    <tr>\n",
       "      <th>1</th>\n",
       "      <td>7785</td>\n",
       "      <td>0</td>\n",
       "    </tr>\n",
       "    <tr>\n",
       "      <th>2</th>\n",
       "      <td>7794</td>\n",
       "      <td>0</td>\n",
       "    </tr>\n",
       "    <tr>\n",
       "      <th>3</th>\n",
       "      <td>7795</td>\n",
       "      <td>0</td>\n",
       "    </tr>\n",
       "    <tr>\n",
       "      <th>4</th>\n",
       "      <td>7798</td>\n",
       "      <td>0</td>\n",
       "    </tr>\n",
       "    <tr>\n",
       "      <th>...</th>\n",
       "      <td>...</td>\n",
       "      <td>...</td>\n",
       "    </tr>\n",
       "    <tr>\n",
       "      <th>6797</th>\n",
       "      <td>4258</td>\n",
       "      <td>0</td>\n",
       "    </tr>\n",
       "    <tr>\n",
       "      <th>6798</th>\n",
       "      <td>4259</td>\n",
       "      <td>0</td>\n",
       "    </tr>\n",
       "    <tr>\n",
       "      <th>6799</th>\n",
       "      <td>4260</td>\n",
       "      <td>0</td>\n",
       "    </tr>\n",
       "    <tr>\n",
       "      <th>6800</th>\n",
       "      <td>4261</td>\n",
       "      <td>0</td>\n",
       "    </tr>\n",
       "    <tr>\n",
       "      <th>6801</th>\n",
       "      <td>4262</td>\n",
       "      <td>0</td>\n",
       "    </tr>\n",
       "  </tbody>\n",
       "</table>\n",
       "<p>6802 rows × 2 columns</p>\n",
       "</div>"
      ],
      "text/plain": [
       "      contract_id  blocked\n",
       "0            7780        0\n",
       "1            7785        0\n",
       "2            7794        0\n",
       "3            7795        0\n",
       "4            7798        0\n",
       "...           ...      ...\n",
       "6797         4258        0\n",
       "6798         4259        0\n",
       "6799         4260        0\n",
       "6800         4261        0\n",
       "6801         4262        0\n",
       "\n",
       "[6802 rows x 2 columns]"
      ]
     },
     "execution_count": 15,
     "metadata": {},
     "output_type": "execute_result"
    }
   ],
   "source": [
    "all_df = pd.concat([train_df, test_df], ignore_index=True)\n",
    "all_df"
   ]
  },
  {
   "cell_type": "markdown",
   "id": "6b23dc65",
   "metadata": {},
   "source": [
    "## 2.2. Работа с type_contract_df"
   ]
  },
  {
   "cell_type": "markdown",
   "id": "0663bcf7",
   "metadata": {},
   "source": [
    "Начнем с type_contract_df, тут всё очевидно, по столбцу **contract_id** сформируем признак **day_or_month_contract** как есть"
   ]
  },
  {
   "cell_type": "code",
   "execution_count": 16,
   "id": "759a0056",
   "metadata": {},
   "outputs": [
    {
     "name": "stdout",
     "output_type": "stream",
     "text": [
      "<class 'pandas.core.frame.DataFrame'>\n",
      "RangeIndex: 6802 entries, 0 to 6801\n",
      "Data columns (total 3 columns):\n",
      " #   Column                 Non-Null Count  Dtype  \n",
      "---  ------                 --------------  -----  \n",
      " 0   contract_id            6802 non-null   int64  \n",
      " 1   blocked                6802 non-null   int64  \n",
      " 2   day_or_month_contract  6800 non-null   float64\n",
      "dtypes: float64(1), int64(2)\n",
      "memory usage: 159.5 KB\n"
     ]
    }
   ],
   "source": [
    "all_df = pd.merge(all_df, type_contract_df, on=\"contract_id\", how='left').drop_duplicates(subset=\"contract_id\", ignore_index=True)\n",
    "all_df.info() # смотрим описание"
   ]
  },
  {
   "cell_type": "code",
   "execution_count": 17,
   "id": "b44c76ec",
   "metadata": {},
   "outputs": [
    {
     "data": {
      "text/html": [
       "<div>\n",
       "<style scoped>\n",
       "    .dataframe tbody tr th:only-of-type {\n",
       "        vertical-align: middle;\n",
       "    }\n",
       "\n",
       "    .dataframe tbody tr th {\n",
       "        vertical-align: top;\n",
       "    }\n",
       "\n",
       "    .dataframe thead th {\n",
       "        text-align: right;\n",
       "    }\n",
       "</style>\n",
       "<table border=\"1\" class=\"dataframe\">\n",
       "  <thead>\n",
       "    <tr style=\"text-align: right;\">\n",
       "      <th></th>\n",
       "      <th>contract_id</th>\n",
       "      <th>blocked</th>\n",
       "      <th>day_or_month_contract</th>\n",
       "    </tr>\n",
       "  </thead>\n",
       "  <tbody>\n",
       "    <tr>\n",
       "      <th>0</th>\n",
       "      <td>7780</td>\n",
       "      <td>0</td>\n",
       "      <td>0.0</td>\n",
       "    </tr>\n",
       "    <tr>\n",
       "      <th>1</th>\n",
       "      <td>7785</td>\n",
       "      <td>0</td>\n",
       "      <td>0.0</td>\n",
       "    </tr>\n",
       "    <tr>\n",
       "      <th>2</th>\n",
       "      <td>7794</td>\n",
       "      <td>0</td>\n",
       "      <td>0.0</td>\n",
       "    </tr>\n",
       "  </tbody>\n",
       "</table>\n",
       "</div>"
      ],
      "text/plain": [
       "   contract_id  blocked  day_or_month_contract\n",
       "0         7780        0                    0.0\n",
       "1         7785        0                    0.0\n",
       "2         7794        0                    0.0"
      ]
     },
     "execution_count": 17,
     "metadata": {},
     "output_type": "execute_result"
    }
   ],
   "source": [
    "all_df.head(3) # смотрим первые записи"
   ]
  },
  {
   "cell_type": "code",
   "execution_count": 18,
   "id": "0aef01fd",
   "metadata": {},
   "outputs": [],
   "source": [
    "all_df.day_or_month_contract.fillna(0, inplace=True) # заполняем два пропуска нулями\n",
    "all_df.day_or_month_contract = all_df.day_or_month_contract.astype('int64') # приводим столбец к целочисленному типу"
   ]
  },
  {
   "cell_type": "code",
   "execution_count": 19,
   "id": "2bb16b97",
   "metadata": {},
   "outputs": [
    {
     "data": {
      "text/html": [
       "<div>\n",
       "<style scoped>\n",
       "    .dataframe tbody tr th:only-of-type {\n",
       "        vertical-align: middle;\n",
       "    }\n",
       "\n",
       "    .dataframe tbody tr th {\n",
       "        vertical-align: top;\n",
       "    }\n",
       "\n",
       "    .dataframe thead th {\n",
       "        text-align: right;\n",
       "    }\n",
       "</style>\n",
       "<table border=\"1\" class=\"dataframe\">\n",
       "  <thead>\n",
       "    <tr style=\"text-align: right;\">\n",
       "      <th></th>\n",
       "      <th>contract_id</th>\n",
       "      <th>blocked</th>\n",
       "      <th>day_or_month_contract</th>\n",
       "    </tr>\n",
       "  </thead>\n",
       "  <tbody>\n",
       "    <tr>\n",
       "      <th>0</th>\n",
       "      <td>7780</td>\n",
       "      <td>0</td>\n",
       "      <td>0</td>\n",
       "    </tr>\n",
       "    <tr>\n",
       "      <th>1</th>\n",
       "      <td>7785</td>\n",
       "      <td>0</td>\n",
       "      <td>0</td>\n",
       "    </tr>\n",
       "    <tr>\n",
       "      <th>2</th>\n",
       "      <td>7794</td>\n",
       "      <td>0</td>\n",
       "      <td>0</td>\n",
       "    </tr>\n",
       "  </tbody>\n",
       "</table>\n",
       "</div>"
      ],
      "text/plain": [
       "   contract_id  blocked  day_or_month_contract\n",
       "0         7780        0                      0\n",
       "1         7785        0                      0\n",
       "2         7794        0                      0"
      ]
     },
     "execution_count": 19,
     "metadata": {},
     "output_type": "execute_result"
    }
   ],
   "source": [
    "all_df.head(3) # смотрим первые записи"
   ]
  },
  {
   "cell_type": "markdown",
   "id": "2fec4f61",
   "metadata": {},
   "source": [
    "## 2.3. Работа с named_df"
   ]
  },
  {
   "cell_type": "markdown",
   "id": "c2fbb3e6",
   "metadata": {},
   "source": [
    "Анализ named_df приводит к идее сформировать следующий признак - **количество запросов пользователя к сайтам, которые посещали ушедшие (blocked - 1) пользователи**. Так как есть данные о дате запроса, тот разобьём данный признак на три периода, в первые две недели, вторые две недели и последние две недели в имеющихся данных. Для этого сначала сформируем столбец **week** в named_df, затем присоеденим по **contract_id** значение из train_df столбца **blocked**, после проведем необходимые группировки и трансформации для создания трёх новых признаков."
   ]
  },
  {
   "cell_type": "code",
   "execution_count": 20,
   "id": "583dc9e6",
   "metadata": {},
   "outputs": [],
   "source": [
    "named_df['date'] = pd.to_datetime(named_df['date']) # приводим столбец date к типу datetime \n",
    "named_df['week'] = named_df['date'].dt.isocalendar().week.astype('int64') # формируем столбец с номером недели"
   ]
  },
  {
   "cell_type": "code",
   "execution_count": 21,
   "id": "3816854d",
   "metadata": {},
   "outputs": [
    {
     "name": "stdout",
     "output_type": "stream",
     "text": [
      "<class 'pandas.core.frame.DataFrame'>\n",
      "RangeIndex: 10646537 entries, 0 to 10646536\n",
      "Data columns (total 4 columns):\n",
      " #   Column       Dtype         \n",
      "---  ------       -----         \n",
      " 0   date         datetime64[ns]\n",
      " 1   url          object        \n",
      " 2   contract_id  int64         \n",
      " 3   week         int64         \n",
      "dtypes: datetime64[ns](1), int64(2), object(1)\n",
      "memory usage: 324.9+ MB\n"
     ]
    }
   ],
   "source": [
    "named_df.info()"
   ]
  },
  {
   "cell_type": "code",
   "execution_count": 22,
   "id": "81982571",
   "metadata": {},
   "outputs": [
    {
     "data": {
      "text/plain": [
       "[12, 13, 14, 15, 16, 17]"
      ]
     },
     "execution_count": 22,
     "metadata": {},
     "output_type": "execute_result"
    }
   ],
   "source": [
    "sorted(named_df.week.unique()) # смотрим какие есть недели в данных"
   ]
  },
  {
   "cell_type": "code",
   "execution_count": 23,
   "id": "a45dcbc5",
   "metadata": {},
   "outputs": [
    {
     "data": {
      "text/html": [
       "<div>\n",
       "<style scoped>\n",
       "    .dataframe tbody tr th:only-of-type {\n",
       "        vertical-align: middle;\n",
       "    }\n",
       "\n",
       "    .dataframe tbody tr th {\n",
       "        vertical-align: top;\n",
       "    }\n",
       "\n",
       "    .dataframe thead th {\n",
       "        text-align: right;\n",
       "    }\n",
       "</style>\n",
       "<table border=\"1\" class=\"dataframe\">\n",
       "  <thead>\n",
       "    <tr style=\"text-align: right;\">\n",
       "      <th></th>\n",
       "      <th>url</th>\n",
       "      <th>cat_url</th>\n",
       "    </tr>\n",
       "  </thead>\n",
       "  <tbody>\n",
       "    <tr>\n",
       "      <th>0</th>\n",
       "      <td>sampo.ru</td>\n",
       "      <td>1.0</td>\n",
       "    </tr>\n",
       "    <tr>\n",
       "      <th>1</th>\n",
       "      <td>hosting.sampo.ru</td>\n",
       "      <td>1.0</td>\n",
       "    </tr>\n",
       "    <tr>\n",
       "      <th>2</th>\n",
       "      <td>webmail.sampo.ru</td>\n",
       "      <td>1.0</td>\n",
       "    </tr>\n",
       "  </tbody>\n",
       "</table>\n",
       "</div>"
      ],
      "text/plain": [
       "                url  cat_url\n",
       "0          sampo.ru      1.0\n",
       "1  hosting.sampo.ru      1.0\n",
       "2  webmail.sampo.ru      1.0"
      ]
     },
     "execution_count": 23,
     "metadata": {},
     "output_type": "execute_result"
    }
   ],
   "source": [
    "temp1 = pd.merge(named_df[['contract_id', 'url']], train_df, on=\"contract_id\", how='left') # формируем промежуточнй датафрейм со столбцом blocked \n",
    "temp1 = temp1[temp1.blocked == 1] # оставляем только те строки, где в blocked 1\n",
    "temp1 = temp1.rename(columns={'blocked': 'cat_url'}).reset_index()\n",
    "temp1 = temp1[['url', 'cat_url']].drop_duplicates().reset_index(drop=True)\n",
    "temp1.head(3) # получили промежуточные данные по категории сайтов 1"
   ]
  },
  {
   "cell_type": "code",
   "execution_count": 24,
   "id": "6b5b00d8",
   "metadata": {},
   "outputs": [
    {
     "name": "stdout",
     "output_type": "stream",
     "text": [
      "Wall time: 42.2 s\n"
     ]
    },
    {
     "data": {
      "text/html": [
       "<div>\n",
       "<style scoped>\n",
       "    .dataframe tbody tr th:only-of-type {\n",
       "        vertical-align: middle;\n",
       "    }\n",
       "\n",
       "    .dataframe tbody tr th {\n",
       "        vertical-align: top;\n",
       "    }\n",
       "\n",
       "    .dataframe thead th {\n",
       "        text-align: right;\n",
       "    }\n",
       "</style>\n",
       "<table border=\"1\" class=\"dataframe\">\n",
       "  <thead>\n",
       "    <tr style=\"text-align: right;\">\n",
       "      <th></th>\n",
       "      <th>date</th>\n",
       "      <th>url</th>\n",
       "      <th>contract_id</th>\n",
       "      <th>week</th>\n",
       "      <th>cat_url</th>\n",
       "    </tr>\n",
       "  </thead>\n",
       "  <tbody>\n",
       "    <tr>\n",
       "      <th>0</th>\n",
       "      <td>2021-04-17</td>\n",
       "      <td>webmail.sampo.ru</td>\n",
       "      <td>101397</td>\n",
       "      <td>15</td>\n",
       "      <td>1</td>\n",
       "    </tr>\n",
       "    <tr>\n",
       "      <th>1</th>\n",
       "      <td>2021-04-17</td>\n",
       "      <td>webmail.sampo.ru</td>\n",
       "      <td>179624</td>\n",
       "      <td>15</td>\n",
       "      <td>1</td>\n",
       "    </tr>\n",
       "    <tr>\n",
       "      <th>2</th>\n",
       "      <td>2021-04-17</td>\n",
       "      <td>tvip-provision.sampo.ru</td>\n",
       "      <td>190335</td>\n",
       "      <td>15</td>\n",
       "      <td>0</td>\n",
       "    </tr>\n",
       "  </tbody>\n",
       "</table>\n",
       "</div>"
      ],
      "text/plain": [
       "        date                      url  contract_id  week  cat_url\n",
       "0 2021-04-17         webmail.sampo.ru       101397    15        1\n",
       "1 2021-04-17         webmail.sampo.ru       179624    15        1\n",
       "2 2021-04-17  tvip-provision.sampo.ru       190335    15        0"
      ]
     },
     "execution_count": 24,
     "metadata": {},
     "output_type": "execute_result"
    }
   ],
   "source": [
    "%%time\n",
    "named_df = pd.merge(named_df, temp1, on=\"url\", how='left').fillna(0) # формируем столбец cat_url\n",
    "named_df.cat_url = named_df.cat_url.astype('int64')\n",
    "named_df.head(3)"
   ]
  },
  {
   "cell_type": "code",
   "execution_count": 25,
   "id": "c2fec41e",
   "metadata": {},
   "outputs": [
    {
     "name": "stdout",
     "output_type": "stream",
     "text": [
      "Wall time: 760 ms\n"
     ]
    }
   ],
   "source": [
    "%%time\n",
    "for i in (12, 14, 16): # формируем три новых признака \n",
    "    temp2 = named_df[((named_df['week'] == i) | (named_df['week'] == i + 1)) & (named_df['cat_url'] == 1)].groupby('contract_id').count()\n",
    "    temp2 = temp2.drop(['date', 'url', 'week'], axis=1).rename(columns={'cat_url': f'period_{i}_count_cat_url_1'})\n",
    "    all_df = pd.merge(all_df, temp2, on='contract_id', how='left')\n",
    "    all_df[f'period_{i}_count_cat_url_1'] = all_df[f'period_{i}_count_cat_url_1'].fillna(0).astype('int64')\n"
   ]
  },
  {
   "cell_type": "code",
   "execution_count": 26,
   "id": "7b4493ee",
   "metadata": {},
   "outputs": [
    {
     "data": {
      "text/html": [
       "<div>\n",
       "<style scoped>\n",
       "    .dataframe tbody tr th:only-of-type {\n",
       "        vertical-align: middle;\n",
       "    }\n",
       "\n",
       "    .dataframe tbody tr th {\n",
       "        vertical-align: top;\n",
       "    }\n",
       "\n",
       "    .dataframe thead th {\n",
       "        text-align: right;\n",
       "    }\n",
       "</style>\n",
       "<table border=\"1\" class=\"dataframe\">\n",
       "  <thead>\n",
       "    <tr style=\"text-align: right;\">\n",
       "      <th></th>\n",
       "      <th>contract_id</th>\n",
       "      <th>blocked</th>\n",
       "      <th>day_or_month_contract</th>\n",
       "      <th>period_12_count_cat_url_1</th>\n",
       "      <th>period_14_count_cat_url_1</th>\n",
       "      <th>period_16_count_cat_url_1</th>\n",
       "    </tr>\n",
       "  </thead>\n",
       "  <tbody>\n",
       "    <tr>\n",
       "      <th>0</th>\n",
       "      <td>7780</td>\n",
       "      <td>0</td>\n",
       "      <td>0</td>\n",
       "      <td>0</td>\n",
       "      <td>0</td>\n",
       "      <td>83</td>\n",
       "    </tr>\n",
       "    <tr>\n",
       "      <th>1</th>\n",
       "      <td>7785</td>\n",
       "      <td>0</td>\n",
       "      <td>0</td>\n",
       "      <td>7</td>\n",
       "      <td>0</td>\n",
       "      <td>3</td>\n",
       "    </tr>\n",
       "    <tr>\n",
       "      <th>2</th>\n",
       "      <td>7794</td>\n",
       "      <td>0</td>\n",
       "      <td>0</td>\n",
       "      <td>0</td>\n",
       "      <td>0</td>\n",
       "      <td>0</td>\n",
       "    </tr>\n",
       "  </tbody>\n",
       "</table>\n",
       "</div>"
      ],
      "text/plain": [
       "   contract_id  blocked  day_or_month_contract  period_12_count_cat_url_1  \\\n",
       "0         7780        0                      0                          0   \n",
       "1         7785        0                      0                          7   \n",
       "2         7794        0                      0                          0   \n",
       "\n",
       "   period_14_count_cat_url_1  period_16_count_cat_url_1  \n",
       "0                          0                         83  \n",
       "1                          0                          3  \n",
       "2                          0                          0  "
      ]
     },
     "execution_count": 26,
     "metadata": {},
     "output_type": "execute_result"
    }
   ],
   "source": [
    "all_df.head(3)"
   ]
  },
  {
   "cell_type": "markdown",
   "id": "3fbedca8",
   "metadata": {},
   "source": [
    "**Сформированы три новых признака - количество запросов к сайтам категории 1 по каждому двухнедельному периоду.**"
   ]
  },
  {
   "cell_type": "markdown",
   "id": "fef456a7",
   "metadata": {},
   "source": [
    "<div class=\"alert alert-info\">\n",
    "<b>Примечание 1:</b>\n",
    " В рабочем процессе формировались и 6 признаков - по каждой неделе, и 2 признака - весь интервал разбивался на 2 периода, но лучшие результаты показала модель, обученная с учетом признаков, сформированных именно по трём периодам"
   ]
  },
  {
   "cell_type": "markdown",
   "id": "d9f485fb",
   "metadata": {},
   "source": [
    "## 2.4. Работа с log_df"
   ]
  },
  {
   "cell_type": "markdown",
   "id": "7aef0ba1",
   "metadata": {},
   "source": [
    "Анализ log_df приводит к идее сформировать следующий признак - количество обращений пользователя по типам обращений, которые делали ушедшие (blocked - 1) пользователи. Дату и время обращения учитывать не будем, вместо этого сначала разобьем типы обращений на три категории в зависимости от частоты обращения - отношение количества обращений ушедших пользователей ко всем пользователям."
   ]
  },
  {
   "cell_type": "code",
   "execution_count": 27,
   "id": "abee7cc0",
   "metadata": {},
   "outputs": [],
   "source": [
    "log_df['event_date'] = pd.to_datetime(log_df['event_date']) # приводим столбец к типу datetime\n",
    "log_df = log_df[log_df.event_type != 'Турбокнопка бесплатно'] # удаляем не релевантный тип обращения\n",
    "log_df = log_df[log_df.event_type != 'Турбокнопка платно (1 сутки)'] # удаляем не релевантный тип обращения\n",
    "log_df = log_df[log_df.event_type != 'Турбокнопка платно (1 час)'] # удаляем не релевантный тип обращения\n",
    "log_df = log_df[log_df.event_type != 'Включение автоматической активации ГП'] # удаляем не релевантный тип обращения\n",
    "log_df = log_df[log_df.event_type != 'Тайный покупатель. Отправлена анкета'] # удаляем не релевантный тип обращения"
   ]
  },
  {
   "cell_type": "code",
   "execution_count": 28,
   "id": "888fb83d",
   "metadata": {},
   "outputs": [
    {
     "data": {
      "text/html": [
       "<div>\n",
       "<style scoped>\n",
       "    .dataframe tbody tr th:only-of-type {\n",
       "        vertical-align: middle;\n",
       "    }\n",
       "\n",
       "    .dataframe tbody tr th {\n",
       "        vertical-align: top;\n",
       "    }\n",
       "\n",
       "    .dataframe thead th {\n",
       "        text-align: right;\n",
       "    }\n",
       "</style>\n",
       "<table border=\"1\" class=\"dataframe\">\n",
       "  <thead>\n",
       "    <tr style=\"text-align: right;\">\n",
       "      <th></th>\n",
       "      <th>contract_id</th>\n",
       "      <th>blocked</th>\n",
       "    </tr>\n",
       "    <tr>\n",
       "      <th>event_type</th>\n",
       "      <th></th>\n",
       "      <th></th>\n",
       "    </tr>\n",
       "  </thead>\n",
       "  <tbody>\n",
       "    <tr>\n",
       "      <th>Без границ бесплатно. Отключение</th>\n",
       "      <td>32847.000000</td>\n",
       "      <td>0.130435</td>\n",
       "    </tr>\n",
       "    <tr>\n",
       "      <th>Активация ГП с IVR</th>\n",
       "      <td>62210.591549</td>\n",
       "      <td>0.126761</td>\n",
       "    </tr>\n",
       "    <tr>\n",
       "      <th>Включение интернета на 20 минут</th>\n",
       "      <td>51104.187877</td>\n",
       "      <td>0.124246</td>\n",
       "    </tr>\n",
       "    <tr>\n",
       "      <th>Включение IPTV-пакета</th>\n",
       "      <td>55417.692810</td>\n",
       "      <td>0.124183</td>\n",
       "    </tr>\n",
       "    <tr>\n",
       "      <th>Предложение тарифа</th>\n",
       "      <td>49837.556886</td>\n",
       "      <td>0.107784</td>\n",
       "    </tr>\n",
       "    <tr>\n",
       "      <th>Выключение IPTV-пакета</th>\n",
       "      <td>50858.930233</td>\n",
       "      <td>0.104651</td>\n",
       "    </tr>\n",
       "    <tr>\n",
       "      <th>Уведомления: подтверждение</th>\n",
       "      <td>34762.400000</td>\n",
       "      <td>0.100000</td>\n",
       "    </tr>\n",
       "    <tr>\n",
       "      <th>Информер ВК. Показ</th>\n",
       "      <td>47680.935655</td>\n",
       "      <td>0.097736</td>\n",
       "    </tr>\n",
       "    <tr>\n",
       "      <th>Предложение ТВ-пакета</th>\n",
       "      <td>50149.777778</td>\n",
       "      <td>0.083333</td>\n",
       "    </tr>\n",
       "    <tr>\n",
       "      <th>Включена 20% скидка</th>\n",
       "      <td>34959.357143</td>\n",
       "      <td>0.071429</td>\n",
       "    </tr>\n",
       "  </tbody>\n",
       "</table>\n",
       "</div>"
      ],
      "text/plain": [
       "                                   contract_id   blocked\n",
       "event_type                                              \n",
       "Без границ бесплатно. Отключение  32847.000000  0.130435\n",
       "Активация ГП с IVR                62210.591549  0.126761\n",
       "Включение интернета на 20 минут   51104.187877  0.124246\n",
       "Включение IPTV-пакета             55417.692810  0.124183\n",
       "Предложение тарифа                49837.556886  0.107784\n",
       "Выключение IPTV-пакета            50858.930233  0.104651\n",
       "Уведомления: подтверждение        34762.400000  0.100000\n",
       "Информер ВК. Показ                47680.935655  0.097736\n",
       "Предложение ТВ-пакета             50149.777778  0.083333\n",
       "Включена 20% скидка               34959.357143  0.071429"
      ]
     },
     "execution_count": 28,
     "metadata": {},
     "output_type": "execute_result"
    }
   ],
   "source": [
    "temp3 = pd.merge(log_df, train_df, on=\"contract_id\", how='left')\n",
    "temp3 = temp3[~temp3.blocked.isna()]\n",
    "temp4 = temp3.groupby('event_type').mean().sort_values(by='blocked', ascending=False)\n",
    "temp4[55:65] # получили в столбце blocked данной групиировки среднее, по которому определим категории типов обращений"
   ]
  },
  {
   "cell_type": "code",
   "execution_count": 29,
   "id": "862a028e",
   "metadata": {},
   "outputs": [],
   "source": [
    "def cat_even(x): # функция, котороя в зависимости от порогового значения среднего определяет категорию типов обращений\n",
    "    if x < 0.001:\n",
    "        return 0\n",
    "    if x < 0.124:\n",
    "        return 1\n",
    "    return 2"
   ]
  },
  {
   "cell_type": "markdown",
   "id": "c9392c39",
   "metadata": {},
   "source": [
    "<div class=\"alert alert-info\">\n",
    "<b>Примечание 2:</b>\n",
    " Значение для разбивки типов обращений по категориям сначала было определено интуитивно 0.20, а затем при валидации модели этот порог итеративно (методом половинного деления) был переопределен на 0.124 - что показывало лучший результат. Также, в результате отсеивания категорий с низким средним были определены нерелевантные типы обращений: 'Турбокнопка бесплатно', 'Турбокнопка платно (1 сутки)', 'Турбокнопка платно (1 час)' и др., которые по сути были переведены в нулевую категорию."
   ]
  },
  {
   "cell_type": "code",
   "execution_count": 30,
   "id": "a8f937bd",
   "metadata": {},
   "outputs": [
    {
     "data": {
      "text/html": [
       "<div>\n",
       "<style scoped>\n",
       "    .dataframe tbody tr th:only-of-type {\n",
       "        vertical-align: middle;\n",
       "    }\n",
       "\n",
       "    .dataframe tbody tr th {\n",
       "        vertical-align: top;\n",
       "    }\n",
       "\n",
       "    .dataframe thead th {\n",
       "        text-align: right;\n",
       "    }\n",
       "</style>\n",
       "<table border=\"1\" class=\"dataframe\">\n",
       "  <thead>\n",
       "    <tr style=\"text-align: right;\">\n",
       "      <th></th>\n",
       "      <th>cat_even</th>\n",
       "    </tr>\n",
       "    <tr>\n",
       "      <th>event_type</th>\n",
       "      <th></th>\n",
       "    </tr>\n",
       "  </thead>\n",
       "  <tbody>\n",
       "    <tr>\n",
       "      <th>Блокировка</th>\n",
       "      <td>2</td>\n",
       "    </tr>\n",
       "    <tr>\n",
       "      <th>Расторжение</th>\n",
       "      <td>2</td>\n",
       "    </tr>\n",
       "    <tr>\n",
       "      <th>Отключение  ограничения функций ТВ</th>\n",
       "      <td>2</td>\n",
       "    </tr>\n",
       "    <tr>\n",
       "      <th>Отмена гарантированного платежа</th>\n",
       "      <td>2</td>\n",
       "    </tr>\n",
       "    <tr>\n",
       "      <th>Виртуальное бессмертие. Отключение</th>\n",
       "      <td>2</td>\n",
       "    </tr>\n",
       "    <tr>\n",
       "      <th>...</th>\n",
       "      <td>...</td>\n",
       "    </tr>\n",
       "    <tr>\n",
       "      <th>Подписка на ivi. Включение триала</th>\n",
       "      <td>0</td>\n",
       "    </tr>\n",
       "    <tr>\n",
       "      <th>Общий счет. Отсоединение реципиента</th>\n",
       "      <td>0</td>\n",
       "    </tr>\n",
       "    <tr>\n",
       "      <th>Окончание рассрочки за подключение</th>\n",
       "      <td>0</td>\n",
       "    </tr>\n",
       "    <tr>\n",
       "      <th>Отключение управления услугами по паролю</th>\n",
       "      <td>0</td>\n",
       "    </tr>\n",
       "    <tr>\n",
       "      <th>Общий счет. Отсоединение от донора</th>\n",
       "      <td>0</td>\n",
       "    </tr>\n",
       "  </tbody>\n",
       "</table>\n",
       "<p>93 rows × 1 columns</p>\n",
       "</div>"
      ],
      "text/plain": [
       "                                          cat_even\n",
       "event_type                                        \n",
       "Блокировка                                       2\n",
       "Расторжение                                      2\n",
       "Отключение  ограничения функций ТВ               2\n",
       "Отмена гарантированного платежа                  2\n",
       "Виртуальное бессмертие. Отключение               2\n",
       "...                                            ...\n",
       "Подписка на ivi. Включение триала                0\n",
       "Общий счет. Отсоединение реципиента              0\n",
       "Окончание рассрочки за подключение               0\n",
       "Отключение управления услугами по паролю         0\n",
       "Общий счет. Отсоединение от донора               0\n",
       "\n",
       "[93 rows x 1 columns]"
      ]
     },
     "execution_count": 30,
     "metadata": {},
     "output_type": "execute_result"
    }
   ],
   "source": [
    "temp4['cat_even'] = temp4['blocked'].map(cat_even) \n",
    "temp4 = temp4.drop(['contract_id', 'blocked'], axis=1)\n",
    "temp4 # присвоили каждому обращению категорию"
   ]
  },
  {
   "cell_type": "code",
   "execution_count": 31,
   "id": "0a989354",
   "metadata": {},
   "outputs": [
    {
     "data": {
      "text/html": [
       "<div>\n",
       "<style scoped>\n",
       "    .dataframe tbody tr th:only-of-type {\n",
       "        vertical-align: middle;\n",
       "    }\n",
       "\n",
       "    .dataframe tbody tr th {\n",
       "        vertical-align: top;\n",
       "    }\n",
       "\n",
       "    .dataframe thead th {\n",
       "        text-align: right;\n",
       "    }\n",
       "</style>\n",
       "<table border=\"1\" class=\"dataframe\">\n",
       "  <thead>\n",
       "    <tr style=\"text-align: right;\">\n",
       "      <th></th>\n",
       "      <th>contract_id</th>\n",
       "      <th>event_date</th>\n",
       "      <th>event_type</th>\n",
       "      <th>cat_even</th>\n",
       "    </tr>\n",
       "  </thead>\n",
       "  <tbody>\n",
       "    <tr>\n",
       "      <th>0</th>\n",
       "      <td>36294</td>\n",
       "      <td>2021-03-28 16:24:30</td>\n",
       "      <td>Добавление в Обращались с номеров</td>\n",
       "      <td>2.0</td>\n",
       "    </tr>\n",
       "    <tr>\n",
       "      <th>1</th>\n",
       "      <td>36294</td>\n",
       "      <td>2021-03-28 16:27:41</td>\n",
       "      <td>Обращение в службу заботы о клиентах</td>\n",
       "      <td>2.0</td>\n",
       "    </tr>\n",
       "    <tr>\n",
       "      <th>2</th>\n",
       "      <td>36294</td>\n",
       "      <td>2021-03-28 16:29:56</td>\n",
       "      <td>Выключение IPTV-пакета</td>\n",
       "      <td>1.0</td>\n",
       "    </tr>\n",
       "    <tr>\n",
       "      <th>3</th>\n",
       "      <td>36294</td>\n",
       "      <td>2021-03-28 16:29:56</td>\n",
       "      <td>Включение IPTV-пакета</td>\n",
       "      <td>2.0</td>\n",
       "    </tr>\n",
       "    <tr>\n",
       "      <th>4</th>\n",
       "      <td>36294</td>\n",
       "      <td>2021-03-28 16:35:04</td>\n",
       "      <td>Обращение в службу заботы о клиентах</td>\n",
       "      <td>2.0</td>\n",
       "    </tr>\n",
       "    <tr>\n",
       "      <th>...</th>\n",
       "      <td>...</td>\n",
       "      <td>...</td>\n",
       "      <td>...</td>\n",
       "      <td>...</td>\n",
       "    </tr>\n",
       "    <tr>\n",
       "      <th>24374</th>\n",
       "      <td>11801</td>\n",
       "      <td>2021-04-29 07:50:44</td>\n",
       "      <td>Информер ВК. Показ</td>\n",
       "      <td>1.0</td>\n",
       "    </tr>\n",
       "    <tr>\n",
       "      <th>24375</th>\n",
       "      <td>54405</td>\n",
       "      <td>2021-03-17 10:38:42</td>\n",
       "      <td>Информер ВК. Показ</td>\n",
       "      <td>1.0</td>\n",
       "    </tr>\n",
       "    <tr>\n",
       "      <th>24376</th>\n",
       "      <td>54405</td>\n",
       "      <td>2021-03-23 08:21:29</td>\n",
       "      <td>Информер ВК. Показ</td>\n",
       "      <td>1.0</td>\n",
       "    </tr>\n",
       "    <tr>\n",
       "      <th>24377</th>\n",
       "      <td>54405</td>\n",
       "      <td>2021-04-09 13:04:26</td>\n",
       "      <td>Информер ВК. Показ</td>\n",
       "      <td>1.0</td>\n",
       "    </tr>\n",
       "    <tr>\n",
       "      <th>24378</th>\n",
       "      <td>54405</td>\n",
       "      <td>2021-04-29 19:29:29</td>\n",
       "      <td>Информер ВК. Показ</td>\n",
       "      <td>1.0</td>\n",
       "    </tr>\n",
       "  </tbody>\n",
       "</table>\n",
       "<p>24379 rows × 4 columns</p>\n",
       "</div>"
      ],
      "text/plain": [
       "       contract_id          event_date                            event_type  \\\n",
       "0            36294 2021-03-28 16:24:30     Добавление в Обращались с номеров   \n",
       "1            36294 2021-03-28 16:27:41  Обращение в службу заботы о клиентах   \n",
       "2            36294 2021-03-28 16:29:56                Выключение IPTV-пакета   \n",
       "3            36294 2021-03-28 16:29:56                 Включение IPTV-пакета   \n",
       "4            36294 2021-03-28 16:35:04  Обращение в службу заботы о клиентах   \n",
       "...            ...                 ...                                   ...   \n",
       "24374        11801 2021-04-29 07:50:44                    Информер ВК. Показ   \n",
       "24375        54405 2021-03-17 10:38:42                    Информер ВК. Показ   \n",
       "24376        54405 2021-03-23 08:21:29                    Информер ВК. Показ   \n",
       "24377        54405 2021-04-09 13:04:26                    Информер ВК. Показ   \n",
       "24378        54405 2021-04-29 19:29:29                    Информер ВК. Показ   \n",
       "\n",
       "       cat_even  \n",
       "0           2.0  \n",
       "1           2.0  \n",
       "2           1.0  \n",
       "3           2.0  \n",
       "4           2.0  \n",
       "...         ...  \n",
       "24374       1.0  \n",
       "24375       1.0  \n",
       "24376       1.0  \n",
       "24377       1.0  \n",
       "24378       1.0  \n",
       "\n",
       "[24379 rows x 4 columns]"
      ]
     },
     "execution_count": 31,
     "metadata": {},
     "output_type": "execute_result"
    }
   ],
   "source": [
    "log_df = pd.merge(log_df, temp4, on=\"event_type\", how='left').fillna(0)\n",
    "log_df # сформировали в log_df столбец с категорией обращения"
   ]
  },
  {
   "cell_type": "code",
   "execution_count": 32,
   "id": "52d42ce5",
   "metadata": {
    "scrolled": true
   },
   "outputs": [
    {
     "name": "stdout",
     "output_type": "stream",
     "text": [
      "Wall time: 17 ms\n"
     ]
    }
   ],
   "source": [
    "%%time\n",
    "for i in (1, 2):\n",
    "    temp5 = log_df[log_df['cat_even'] == i].groupby('contract_id').count()\n",
    "    temp5 = temp5.drop(['event_date', 'event_type'], axis=1).rename(columns={'cat_even': f'cat_even_{i}'})\n",
    "    all_df = pd.merge(all_df, temp5, on='contract_id', how='left')\n",
    "    all_df[f'cat_even_{i}'] = all_df[f'cat_even_{i}'].fillna(0).astype('int64')"
   ]
  },
  {
   "cell_type": "markdown",
   "id": "18266a27",
   "metadata": {},
   "source": [
    "**Сформированы ещё два новых признака - количество обращений по категории 1 и по категории 2.**"
   ]
  },
  {
   "cell_type": "code",
   "execution_count": 33,
   "id": "473e2dbb",
   "metadata": {},
   "outputs": [
    {
     "data": {
      "text/html": [
       "<div>\n",
       "<style scoped>\n",
       "    .dataframe tbody tr th:only-of-type {\n",
       "        vertical-align: middle;\n",
       "    }\n",
       "\n",
       "    .dataframe tbody tr th {\n",
       "        vertical-align: top;\n",
       "    }\n",
       "\n",
       "    .dataframe thead th {\n",
       "        text-align: right;\n",
       "    }\n",
       "</style>\n",
       "<table border=\"1\" class=\"dataframe\">\n",
       "  <thead>\n",
       "    <tr style=\"text-align: right;\">\n",
       "      <th></th>\n",
       "      <th>contract_id</th>\n",
       "      <th>blocked</th>\n",
       "      <th>day_or_month_contract</th>\n",
       "      <th>period_12_count_cat_url_1</th>\n",
       "      <th>period_14_count_cat_url_1</th>\n",
       "      <th>period_16_count_cat_url_1</th>\n",
       "      <th>cat_even_1</th>\n",
       "      <th>cat_even_2</th>\n",
       "    </tr>\n",
       "  </thead>\n",
       "  <tbody>\n",
       "    <tr>\n",
       "      <th>0</th>\n",
       "      <td>7780</td>\n",
       "      <td>0</td>\n",
       "      <td>0</td>\n",
       "      <td>0</td>\n",
       "      <td>0</td>\n",
       "      <td>83</td>\n",
       "      <td>0</td>\n",
       "      <td>9</td>\n",
       "    </tr>\n",
       "    <tr>\n",
       "      <th>1</th>\n",
       "      <td>7785</td>\n",
       "      <td>0</td>\n",
       "      <td>0</td>\n",
       "      <td>7</td>\n",
       "      <td>0</td>\n",
       "      <td>3</td>\n",
       "      <td>0</td>\n",
       "      <td>1</td>\n",
       "    </tr>\n",
       "    <tr>\n",
       "      <th>2</th>\n",
       "      <td>7794</td>\n",
       "      <td>0</td>\n",
       "      <td>0</td>\n",
       "      <td>0</td>\n",
       "      <td>0</td>\n",
       "      <td>0</td>\n",
       "      <td>0</td>\n",
       "      <td>0</td>\n",
       "    </tr>\n",
       "    <tr>\n",
       "      <th>3</th>\n",
       "      <td>7795</td>\n",
       "      <td>0</td>\n",
       "      <td>1</td>\n",
       "      <td>0</td>\n",
       "      <td>0</td>\n",
       "      <td>0</td>\n",
       "      <td>3</td>\n",
       "      <td>4</td>\n",
       "    </tr>\n",
       "    <tr>\n",
       "      <th>4</th>\n",
       "      <td>7798</td>\n",
       "      <td>0</td>\n",
       "      <td>0</td>\n",
       "      <td>0</td>\n",
       "      <td>0</td>\n",
       "      <td>0</td>\n",
       "      <td>3</td>\n",
       "      <td>0</td>\n",
       "    </tr>\n",
       "    <tr>\n",
       "      <th>...</th>\n",
       "      <td>...</td>\n",
       "      <td>...</td>\n",
       "      <td>...</td>\n",
       "      <td>...</td>\n",
       "      <td>...</td>\n",
       "      <td>...</td>\n",
       "      <td>...</td>\n",
       "      <td>...</td>\n",
       "    </tr>\n",
       "    <tr>\n",
       "      <th>6797</th>\n",
       "      <td>4258</td>\n",
       "      <td>0</td>\n",
       "      <td>1</td>\n",
       "      <td>0</td>\n",
       "      <td>0</td>\n",
       "      <td>0</td>\n",
       "      <td>0</td>\n",
       "      <td>3</td>\n",
       "    </tr>\n",
       "    <tr>\n",
       "      <th>6798</th>\n",
       "      <td>4259</td>\n",
       "      <td>0</td>\n",
       "      <td>1</td>\n",
       "      <td>44</td>\n",
       "      <td>115</td>\n",
       "      <td>73</td>\n",
       "      <td>0</td>\n",
       "      <td>0</td>\n",
       "    </tr>\n",
       "    <tr>\n",
       "      <th>6799</th>\n",
       "      <td>4260</td>\n",
       "      <td>0</td>\n",
       "      <td>0</td>\n",
       "      <td>0</td>\n",
       "      <td>0</td>\n",
       "      <td>9</td>\n",
       "      <td>3</td>\n",
       "      <td>0</td>\n",
       "    </tr>\n",
       "    <tr>\n",
       "      <th>6800</th>\n",
       "      <td>4261</td>\n",
       "      <td>0</td>\n",
       "      <td>0</td>\n",
       "      <td>0</td>\n",
       "      <td>0</td>\n",
       "      <td>0</td>\n",
       "      <td>2</td>\n",
       "      <td>16</td>\n",
       "    </tr>\n",
       "    <tr>\n",
       "      <th>6801</th>\n",
       "      <td>4262</td>\n",
       "      <td>0</td>\n",
       "      <td>0</td>\n",
       "      <td>0</td>\n",
       "      <td>0</td>\n",
       "      <td>0</td>\n",
       "      <td>0</td>\n",
       "      <td>2</td>\n",
       "    </tr>\n",
       "  </tbody>\n",
       "</table>\n",
       "<p>6802 rows × 8 columns</p>\n",
       "</div>"
      ],
      "text/plain": [
       "      contract_id  blocked  day_or_month_contract  period_12_count_cat_url_1  \\\n",
       "0            7780        0                      0                          0   \n",
       "1            7785        0                      0                          7   \n",
       "2            7794        0                      0                          0   \n",
       "3            7795        0                      1                          0   \n",
       "4            7798        0                      0                          0   \n",
       "...           ...      ...                    ...                        ...   \n",
       "6797         4258        0                      1                          0   \n",
       "6798         4259        0                      1                         44   \n",
       "6799         4260        0                      0                          0   \n",
       "6800         4261        0                      0                          0   \n",
       "6801         4262        0                      0                          0   \n",
       "\n",
       "      period_14_count_cat_url_1  period_16_count_cat_url_1  cat_even_1  \\\n",
       "0                             0                         83           0   \n",
       "1                             0                          3           0   \n",
       "2                             0                          0           0   \n",
       "3                             0                          0           3   \n",
       "4                             0                          0           3   \n",
       "...                         ...                        ...         ...   \n",
       "6797                          0                          0           0   \n",
       "6798                        115                         73           0   \n",
       "6799                          0                          9           3   \n",
       "6800                          0                          0           2   \n",
       "6801                          0                          0           0   \n",
       "\n",
       "      cat_even_2  \n",
       "0              9  \n",
       "1              1  \n",
       "2              0  \n",
       "3              4  \n",
       "4              0  \n",
       "...          ...  \n",
       "6797           3  \n",
       "6798           0  \n",
       "6799           0  \n",
       "6800          16  \n",
       "6801           2  \n",
       "\n",
       "[6802 rows x 8 columns]"
      ]
     },
     "execution_count": 33,
     "metadata": {},
     "output_type": "execute_result"
    }
   ],
   "source": [
    "all_df"
   ]
  },
  {
   "cell_type": "markdown",
   "id": "5d822e68",
   "metadata": {},
   "source": [
    "## 2.5. Разделение датафрейма на выборки"
   ]
  },
  {
   "cell_type": "code",
   "execution_count": 34,
   "id": "1d348269",
   "metadata": {},
   "outputs": [],
   "source": [
    "train = all_df[:5992]\n",
    "test = all_df[5992:] "
   ]
  },
  {
   "cell_type": "code",
   "execution_count": 35,
   "id": "2c822774",
   "metadata": {},
   "outputs": [
    {
     "name": "stdout",
     "output_type": "stream",
     "text": [
      "(5992, 2) (810, 2)\n"
     ]
    }
   ],
   "source": [
    "print(train_df.shape, test_df.shape)"
   ]
  },
  {
   "cell_type": "code",
   "execution_count": 36,
   "id": "54b6bf91",
   "metadata": {},
   "outputs": [],
   "source": [
    "X = train.drop([\"contract_id\", \"blocked\"], axis = 1)\n",
    "y = train[\"blocked\"]\n",
    "X_test = test.drop([\"contract_id\", \"blocked\"], axis = 1).reset_index(drop=True)"
   ]
  },
  {
   "cell_type": "code",
   "execution_count": 37,
   "id": "5454b68d",
   "metadata": {},
   "outputs": [
    {
     "data": {
      "text/html": [
       "<div>\n",
       "<style scoped>\n",
       "    .dataframe tbody tr th:only-of-type {\n",
       "        vertical-align: middle;\n",
       "    }\n",
       "\n",
       "    .dataframe tbody tr th {\n",
       "        vertical-align: top;\n",
       "    }\n",
       "\n",
       "    .dataframe thead th {\n",
       "        text-align: right;\n",
       "    }\n",
       "</style>\n",
       "<table border=\"1\" class=\"dataframe\">\n",
       "  <thead>\n",
       "    <tr style=\"text-align: right;\">\n",
       "      <th></th>\n",
       "      <th>day_or_month_contract</th>\n",
       "      <th>period_12_count_cat_url_1</th>\n",
       "      <th>period_14_count_cat_url_1</th>\n",
       "      <th>period_16_count_cat_url_1</th>\n",
       "      <th>cat_even_1</th>\n",
       "      <th>cat_even_2</th>\n",
       "    </tr>\n",
       "  </thead>\n",
       "  <tbody>\n",
       "    <tr>\n",
       "      <th>0</th>\n",
       "      <td>0</td>\n",
       "      <td>0</td>\n",
       "      <td>0</td>\n",
       "      <td>83</td>\n",
       "      <td>0</td>\n",
       "      <td>9</td>\n",
       "    </tr>\n",
       "    <tr>\n",
       "      <th>1</th>\n",
       "      <td>0</td>\n",
       "      <td>7</td>\n",
       "      <td>0</td>\n",
       "      <td>3</td>\n",
       "      <td>0</td>\n",
       "      <td>1</td>\n",
       "    </tr>\n",
       "    <tr>\n",
       "      <th>2</th>\n",
       "      <td>0</td>\n",
       "      <td>0</td>\n",
       "      <td>0</td>\n",
       "      <td>0</td>\n",
       "      <td>0</td>\n",
       "      <td>0</td>\n",
       "    </tr>\n",
       "    <tr>\n",
       "      <th>3</th>\n",
       "      <td>1</td>\n",
       "      <td>0</td>\n",
       "      <td>0</td>\n",
       "      <td>0</td>\n",
       "      <td>3</td>\n",
       "      <td>4</td>\n",
       "    </tr>\n",
       "    <tr>\n",
       "      <th>4</th>\n",
       "      <td>0</td>\n",
       "      <td>0</td>\n",
       "      <td>0</td>\n",
       "      <td>0</td>\n",
       "      <td>3</td>\n",
       "      <td>0</td>\n",
       "    </tr>\n",
       "    <tr>\n",
       "      <th>...</th>\n",
       "      <td>...</td>\n",
       "      <td>...</td>\n",
       "      <td>...</td>\n",
       "      <td>...</td>\n",
       "      <td>...</td>\n",
       "      <td>...</td>\n",
       "    </tr>\n",
       "    <tr>\n",
       "      <th>5987</th>\n",
       "      <td>1</td>\n",
       "      <td>0</td>\n",
       "      <td>0</td>\n",
       "      <td>0</td>\n",
       "      <td>1</td>\n",
       "      <td>5</td>\n",
       "    </tr>\n",
       "    <tr>\n",
       "      <th>5988</th>\n",
       "      <td>0</td>\n",
       "      <td>0</td>\n",
       "      <td>0</td>\n",
       "      <td>0</td>\n",
       "      <td>1</td>\n",
       "      <td>6</td>\n",
       "    </tr>\n",
       "    <tr>\n",
       "      <th>5989</th>\n",
       "      <td>0</td>\n",
       "      <td>0</td>\n",
       "      <td>0</td>\n",
       "      <td>0</td>\n",
       "      <td>0</td>\n",
       "      <td>8</td>\n",
       "    </tr>\n",
       "    <tr>\n",
       "      <th>5990</th>\n",
       "      <td>1</td>\n",
       "      <td>0</td>\n",
       "      <td>1</td>\n",
       "      <td>0</td>\n",
       "      <td>2</td>\n",
       "      <td>7</td>\n",
       "    </tr>\n",
       "    <tr>\n",
       "      <th>5991</th>\n",
       "      <td>0</td>\n",
       "      <td>0</td>\n",
       "      <td>0</td>\n",
       "      <td>0</td>\n",
       "      <td>0</td>\n",
       "      <td>1</td>\n",
       "    </tr>\n",
       "  </tbody>\n",
       "</table>\n",
       "<p>5992 rows × 6 columns</p>\n",
       "</div>"
      ],
      "text/plain": [
       "      day_or_month_contract  period_12_count_cat_url_1  \\\n",
       "0                         0                          0   \n",
       "1                         0                          7   \n",
       "2                         0                          0   \n",
       "3                         1                          0   \n",
       "4                         0                          0   \n",
       "...                     ...                        ...   \n",
       "5987                      1                          0   \n",
       "5988                      0                          0   \n",
       "5989                      0                          0   \n",
       "5990                      1                          0   \n",
       "5991                      0                          0   \n",
       "\n",
       "      period_14_count_cat_url_1  period_16_count_cat_url_1  cat_even_1  \\\n",
       "0                             0                         83           0   \n",
       "1                             0                          3           0   \n",
       "2                             0                          0           0   \n",
       "3                             0                          0           3   \n",
       "4                             0                          0           3   \n",
       "...                         ...                        ...         ...   \n",
       "5987                          0                          0           1   \n",
       "5988                          0                          0           1   \n",
       "5989                          0                          0           0   \n",
       "5990                          1                          0           2   \n",
       "5991                          0                          0           0   \n",
       "\n",
       "      cat_even_2  \n",
       "0              9  \n",
       "1              1  \n",
       "2              0  \n",
       "3              4  \n",
       "4              0  \n",
       "...          ...  \n",
       "5987           5  \n",
       "5988           6  \n",
       "5989           8  \n",
       "5990           7  \n",
       "5991           1  \n",
       "\n",
       "[5992 rows x 6 columns]"
      ]
     },
     "execution_count": 37,
     "metadata": {},
     "output_type": "execute_result"
    }
   ],
   "source": [
    "X"
   ]
  },
  {
   "cell_type": "markdown",
   "id": "d3adf8d2",
   "metadata": {},
   "source": [
    "### Таким образом, мы получили обучающую выбоку с шестью признаками "
   ]
  },
  {
   "cell_type": "markdown",
   "id": "46699118",
   "metadata": {},
   "source": [
    "# 3. Oversampling (устранение дисбаланса классов)"
   ]
  },
  {
   "cell_type": "markdown",
   "id": "84d1d9a8",
   "metadata": {},
   "source": [
    "Для устранение дисбаланса классов воспльзуемся **BorderlineSMOTE** из библиотеки **imblearn**, этот алгоритм является вариантом оригинального алгоритма SMOTE (синтезирования образцов наименьшего класса). **BorderlineSMOTE** вместо избыточной выборки между всеми наблюдениями меньшенства,  стремится увеличить количество наблюдений меньшинства, которые граничат с наблюдениями большинства. Цель - дать классификатору возможность более четко различать эти пограничные наблюдения."
   ]
  },
  {
   "cell_type": "code",
   "execution_count": 38,
   "id": "a19b8c25",
   "metadata": {},
   "outputs": [],
   "source": [
    "bl = BorderlineSMOTE(random_state=42, sampling_strategy=0.66)\n",
    "X_res, y_res = bl.fit_resample(X, y)"
   ]
  },
  {
   "cell_type": "code",
   "execution_count": 39,
   "id": "11f0c46e",
   "metadata": {},
   "outputs": [
    {
     "data": {
      "image/png": "[encoded data removed]",
      "text/plain": [
       "<Figure size 864x432 with 2 Axes>"
      ]
     },
     "metadata": {
      "needs_background": "light"
     },
     "output_type": "display_data"
    }
   ],
   "source": [
    "fig, axes = plt.subplots(1, 2, figsize=(12, 6))\n",
    "for ax, tit in zip(axes, ['Распределение оттока до Oversampling', 'Распределение оттока после Oversampling']):    \n",
    "    plt.setp(ax, xlabel=None, ylabel=None, title=tit)\n",
    "for ax, target in zip(axes, [y, y_res]):\n",
    "    sns.countplot(x=target, ax=ax)\n",
    "    abs_values = target.value_counts(ascending=False)\n",
    "    rel_values = target.value_counts(ascending=False, normalize=True).values * 100\n",
    "    lbls = [f'{p[0]} ({p[1]:.1f}%)' for p in zip(abs_values, rel_values)]\n",
    "    ax.bar_label(container=ax.containers[0], labels=lbls)\n",
    "plt.show()"
   ]
  },
  {
   "cell_type": "markdown",
   "id": "8c053aa9",
   "metadata": {},
   "source": [
    "<div class=\"alert alert-info\">\n",
    "<b>Примечание 3:</b>\n",
    "Значение параметра sampling_strategy (пропорция образцов меньшего класса к большему после применения) определялось итеративно (методом половинного деления), в резултате, на валидации лучшее значение оказалось равным 0.66"
   ]
  },
  {
   "cell_type": "markdown",
   "id": "def6737e",
   "metadata": {},
   "source": [
    "# 4. Machine Learning (выбор и обучение модели)"
   ]
  },
  {
   "cell_type": "markdown",
   "id": "1ea57d35",
   "metadata": {},
   "source": [
    "## 4.1.  Определение модели для прогнозирования оттока"
   ]
  },
  {
   "cell_type": "markdown",
   "id": "e9587d7d",
   "metadata": {},
   "source": [
    "**Рассмотрим ряд базовых алгоритмов классификации с целью определения лучшего алгоритма для прогноза оттока клиентов. В качестве метрики оценки алгоритма выберем показатель площади под кривой ошибок (ROC_AUC), что позволит в целом оценить качество классификации алгоритма. Оценку будем производить на исходных данных (before ovedsampling).**"
   ]
  },
  {
   "cell_type": "code",
   "execution_count": 40,
   "id": "779b84f5",
   "metadata": {},
   "outputs": [
    {
     "data": {
      "text/html": [
       "<div>\n",
       "<style scoped>\n",
       "    .dataframe tbody tr th:only-of-type {\n",
       "        vertical-align: middle;\n",
       "    }\n",
       "\n",
       "    .dataframe tbody tr th {\n",
       "        vertical-align: top;\n",
       "    }\n",
       "\n",
       "    .dataframe thead th {\n",
       "        text-align: right;\n",
       "    }\n",
       "</style>\n",
       "<table border=\"1\" class=\"dataframe\">\n",
       "  <thead>\n",
       "    <tr style=\"text-align: right;\">\n",
       "      <th></th>\n",
       "      <th>AUC</th>\n",
       "    </tr>\n",
       "  </thead>\n",
       "  <tbody>\n",
       "    <tr>\n",
       "      <th>Логистическая регрессия</th>\n",
       "      <td>0.534003</td>\n",
       "    </tr>\n",
       "    <tr>\n",
       "      <th>Метод К-ближайших соседей</th>\n",
       "      <td>0.553724</td>\n",
       "    </tr>\n",
       "    <tr>\n",
       "      <th>Байесовский классификатор</th>\n",
       "      <td>0.489288</td>\n",
       "    </tr>\n",
       "    <tr>\n",
       "      <th>Метод опорных векторов</th>\n",
       "      <td>0.603540</td>\n",
       "    </tr>\n",
       "    <tr>\n",
       "      <th>Случайный лес</th>\n",
       "      <td>0.691567</td>\n",
       "    </tr>\n",
       "    <tr>\n",
       "      <th>Градиентный бустинг XGBoost</th>\n",
       "      <td>0.714689</td>\n",
       "    </tr>\n",
       "    <tr>\n",
       "      <th>Градиентный бустинг CatBoost</th>\n",
       "      <td>0.727550</td>\n",
       "    </tr>\n",
       "  </tbody>\n",
       "</table>\n",
       "</div>"
      ],
      "text/plain": [
       "                                   AUC\n",
       "Логистическая регрессия       0.534003\n",
       "Метод К-ближайших соседей     0.553724\n",
       "Байесовский классификатор     0.489288\n",
       "Метод опорных векторов        0.603540\n",
       "Случайный лес                 0.691567\n",
       "Градиентный бустинг XGBoost   0.714689\n",
       "Градиентный бустинг CatBoost  0.727550"
      ]
     },
     "execution_count": 40,
     "metadata": {},
     "output_type": "execute_result"
    }
   ],
   "source": [
    "models = [LogisticRegression(),\n",
    "          KNeighborsClassifier(), \n",
    "          GaussianNB(), \n",
    "          SVC(random_state=17), \n",
    "          RandomForestClassifier(n_jobs=-1, random_state=42), \n",
    "          XGBClassifier(n_jobs=-1, random_state=42, loss_function = 'MultiClassOneVsAll'),\n",
    "          CatBoostClassifier(random_state=42, loss_function = 'MultiClassOneVsAll')]\n",
    "\n",
    "scores = []\n",
    "for n, model in enumerate(models):\n",
    "    scores.append(cross_val_score(model, X, y, scoring='roc_auc', cv=5, n_jobs=-1).mean())\n",
    "\n",
    "# Список наименований базовых алгоритмов\n",
    "names = ['Логистическая регрессия', 'Метод К-ближайших соседей',\n",
    "         'Байесовский классификатор', 'Метод опорных векторов',\n",
    "         'Случайный лес', 'Градиентный бустинг XGBoost', 'Градиентный бустинг CatBoost']\n",
    "\n",
    "# Вывод метрик качества базовых алгоритмов\n",
    "pd.DataFrame({'AUC': scores}, index=names)"
   ]
  },
  {
   "cell_type": "markdown",
   "id": "20cd6b37",
   "metadata": {},
   "source": [
    "Из полученных результатов видно, что лучший результат показал градиентный бустинг **CatBoost** с показателем **AUC=0.727**, также хороший результат у градиентного бустинга **XGBoost** с показателем **AUC=0.714.**"
   ]
  },
  {
   "cell_type": "markdown",
   "id": "bd4f3dc4",
   "metadata": {},
   "source": [
    "## 4.2. Обучение модели, кроссвалидация и подбор гиперпараметров"
   ]
  },
  {
   "cell_type": "code",
   "execution_count": 41,
   "id": "e0b9f287",
   "metadata": {},
   "outputs": [],
   "source": [
    "parameters = {'depth': [4, 5, 6, 7],\n",
    "              'learning_rate': [0.0007, 0.005, 0.001],\n",
    "              'iterations': [100, 230, 300]\n",
    "              }"
   ]
  },
  {
   "cell_type": "code",
   "execution_count": 42,
   "id": "cbd5888d",
   "metadata": {},
   "outputs": [
    {
     "name": "stdout",
     "output_type": "stream",
     "text": [
      "Результаты подбора гиперпараметров\n",
      "\n",
      " Лучший Recall:\n",
      " 0.8574816254083812\n",
      "\n",
      " Лучшие параметры:\n",
      " {'depth': 6, 'iterations': 230, 'learning_rate': 0.0007}\n",
      "Wall time: 1min 17s\n"
     ]
    }
   ],
   "source": [
    "%%time\n",
    "CBC_Grid = CatBoostClassifier(verbose=False, loss_function = 'MultiClassOneVsAll')\n",
    "Grid_CBC = GridSearchCV(estimator=CBC_Grid, param_grid=parameters, cv=5, scoring='recall', n_jobs=-1)\n",
    "Grid_CBC.fit(X_res, y_res)\n",
    "print(\"Результаты подбора гиперпараметров\")\n",
    "print(\"\\n Лучший Recall:\\n\",Grid_CBC.best_score_)\n",
    "print(\"\\n Лучшие параметры:\\n\",Grid_CBC.best_params_)"
   ]
  },
  {
   "cell_type": "markdown",
   "id": "bac4c3ae",
   "metadata": {},
   "source": [
    "<div class=\"alert alert-info\">\n",
    "<b>Примечание 4:</b>\n",
    "Дополнительно производился \"ручной\" подбор гиперпараметров в зависимости от результатов на лидерборде чемпионата, таким образом был выбран наилучший варант гиперпараметров: <b>'depth': 6, 'iterations': 230, 'learning_rate': 0.0007.</b>"
   ]
  },
  {
   "cell_type": "code",
   "execution_count": 43,
   "id": "89608629",
   "metadata": {},
   "outputs": [],
   "source": [
    "X_train, X_valid, y_train, y_valid = train_test_split(X_res, y_res, test_size=0.25, stratify=y_res, random_state=12345)"
   ]
  },
  {
   "cell_type": "code",
   "execution_count": 44,
   "id": "c4f74f69",
   "metadata": {
    "scrolled": true
   },
   "outputs": [
    {
     "name": "stdout",
     "output_type": "stream",
     "text": [
      "Значение метрики Recall на X_valid:  0.800204091873354\n",
      "Значение метрики Recall на X_train:  0.8021472566568992\n"
     ]
    }
   ],
   "source": [
    "CBC = CatBoostClassifier(iterations = 230, learning_rate=0.0007, depth=6, verbose=False, loss_function = 'MultiClassOneVsAll')\n",
    "CBC.fit(X_train, y_train)\n",
    "\n",
    "y_pred_valid = CBC.predict(X_valid)\n",
    "y_pred_train = CBC.predict(X_train)\n",
    "print(\"Значение метрики Recall на X_valid: \", recall_score(y_valid, y_pred_valid, average='macro'))\n",
    "print(\"Значение метрики Recall на X_train: \", recall_score(y_train, y_pred_train, average='macro'))"
   ]
  },
  {
   "cell_type": "markdown",
   "id": "2c155581",
   "metadata": {},
   "source": [
    "## 4.3. Confusion Matrix"
   ]
  },
  {
   "cell_type": "code",
   "execution_count": 45,
   "id": "483592fe",
   "metadata": {},
   "outputs": [
    {
     "data": {
      "image/png": "[encoded data removed]",
      "text/plain": [
       "<Figure size 864x576 with 2 Axes>"
      ]
     },
     "metadata": {
      "needs_background": "light"
     },
     "output_type": "display_data"
    }
   ],
   "source": [
    "cf_matrix = confusion_matrix(y_valid, y_pred_valid)\n",
    "plt.figure(figsize=(12,8))\n",
    "ax = sns.heatmap(cf_matrix, annot=True, fmt='d', cmap='Blues')\n",
    "ax.set_title('Confusion Matrix\\n\\n');\n",
    "ax.set_xlabel('\\nprediction_test')\n",
    "ax.set_ylabel('target_test');\n",
    "ax.xaxis.set_ticklabels(['False','True'])\n",
    "ax.yaxis.set_ticklabels(['False','True'])\n",
    "plt.show()"
   ]
  },
  {
   "cell_type": "markdown",
   "id": "16871292",
   "metadata": {},
   "source": [
    "## 4.4. Feature importance"
   ]
  },
  {
   "cell_type": "code",
   "execution_count": 46,
   "id": "075b7435",
   "metadata": {
    "scrolled": true
   },
   "outputs": [
    {
     "data": {
      "text/html": [
       "<div>\n",
       "<style scoped>\n",
       "    .dataframe tbody tr th:only-of-type {\n",
       "        vertical-align: middle;\n",
       "    }\n",
       "\n",
       "    .dataframe tbody tr th {\n",
       "        vertical-align: top;\n",
       "    }\n",
       "\n",
       "    .dataframe thead th {\n",
       "        text-align: right;\n",
       "    }\n",
       "</style>\n",
       "<table border=\"1\" class=\"dataframe\">\n",
       "  <thead>\n",
       "    <tr style=\"text-align: right;\">\n",
       "      <th></th>\n",
       "      <th>feature</th>\n",
       "      <th>importance</th>\n",
       "    </tr>\n",
       "  </thead>\n",
       "  <tbody>\n",
       "    <tr>\n",
       "      <th>0</th>\n",
       "      <td>cat_even_2</td>\n",
       "      <td>61.022417</td>\n",
       "    </tr>\n",
       "    <tr>\n",
       "      <th>1</th>\n",
       "      <td>period_16_count_cat_url_1</td>\n",
       "      <td>21.827631</td>\n",
       "    </tr>\n",
       "    <tr>\n",
       "      <th>2</th>\n",
       "      <td>period_12_count_cat_url_1</td>\n",
       "      <td>6.677428</td>\n",
       "    </tr>\n",
       "    <tr>\n",
       "      <th>3</th>\n",
       "      <td>cat_even_1</td>\n",
       "      <td>5.529142</td>\n",
       "    </tr>\n",
       "    <tr>\n",
       "      <th>4</th>\n",
       "      <td>period_14_count_cat_url_1</td>\n",
       "      <td>3.631211</td>\n",
       "    </tr>\n",
       "    <tr>\n",
       "      <th>5</th>\n",
       "      <td>day_or_month_contract</td>\n",
       "      <td>1.312171</td>\n",
       "    </tr>\n",
       "  </tbody>\n",
       "</table>\n",
       "</div>"
      ],
      "text/plain": [
       "                     feature  importance\n",
       "0                 cat_even_2   61.022417\n",
       "1  period_16_count_cat_url_1   21.827631\n",
       "2  period_12_count_cat_url_1    6.677428\n",
       "3                 cat_even_1    5.529142\n",
       "4  period_14_count_cat_url_1    3.631211\n",
       "5      day_or_month_contract    1.312171"
      ]
     },
     "execution_count": 46,
     "metadata": {},
     "output_type": "execute_result"
    }
   ],
   "source": [
    "def plot_feature_importance(importance, names, model_type):\n",
    "    feature_importance = np.array(importance)\n",
    "    feature_names = np.array(names)\n",
    "    data={'feature_names':feature_names,\n",
    "          'feature_importance':feature_importance}\n",
    "    fi_df = pd.DataFrame(data) \n",
    "    fi_df.sort_values(by=['feature_importance'],    \n",
    "                     ascending=False,inplace=True)\n",
    "    plt.figure(figsize=(10,8))\n",
    "    sns.barplot(x=fi_df['feature_importance'], \n",
    "               y=fi_df['feature_names'])\n",
    "    plt.title(model_type + ' FEATURE IMPORTANCE')\n",
    "    plt.xlabel('FEATURE IMPORTANCE')\n",
    "    plt.ylabel('FEATURE NAMES')\n",
    "    plt.show()\n",
    "    \n",
    "importances = CBC.feature_importances_\n",
    "feature_list = list(X.columns)\n",
    "feature_results = pd.DataFrame({'feature': feature_list,'importance': importances})\n",
    "feature_results = feature_results.sort_values('importance',ascending = False).reset_index(drop=True)\n",
    "feature_results.head(10)"
   ]
  },
  {
   "cell_type": "code",
   "execution_count": 47,
   "id": "af1dec5b",
   "metadata": {
    "scrolled": false
   },
   "outputs": [
    {
     "data": {
      "image/png": "[encoded data removed]",
      "text/plain": [
       "<Figure size 720x576 with 1 Axes>"
      ]
     },
     "metadata": {
      "needs_background": "light"
     },
     "output_type": "display_data"
    }
   ],
   "source": [
    "plot_feature_importance(CBC.get_feature_importance(), X.columns,'CATBOOST')"
   ]
  },
  {
   "cell_type": "markdown",
   "id": "7168a15c",
   "metadata": {},
   "source": [
    "# 5. Submit"
   ]
  },
  {
   "cell_type": "markdown",
   "id": "b7a48f44",
   "metadata": {},
   "source": [
    "## 5.1. Обучение модели на всем объеме данных из train и формирование результата"
   ]
  },
  {
   "cell_type": "code",
   "execution_count": 48,
   "id": "0d1c6709",
   "metadata": {},
   "outputs": [],
   "source": [
    "CBC.fit(X_res, y_res)\n",
    "pred_cb = CBC.predict(X_test)"
   ]
  },
  {
   "cell_type": "code",
   "execution_count": 49,
   "id": "01f12a86",
   "metadata": {
    "scrolled": false
   },
   "outputs": [
    {
     "data": {
      "text/plain": [
       "239"
      ]
     },
     "execution_count": 49,
     "metadata": {},
     "output_type": "execute_result"
    }
   ],
   "source": [
    "pred_cb.sum()"
   ]
  },
  {
   "cell_type": "code",
   "execution_count": 50,
   "id": "90922173",
   "metadata": {},
   "outputs": [],
   "source": [
    "submit = pd.read_csv(\"sample_solution.csv\")\n",
    "submit[\"blocked\"] = pred_cb\n",
    "submit.to_csv('submit_cb.csv', index=False)"
   ]
  },
  {
   "cell_type": "markdown",
   "id": "c5dfae78",
   "metadata": {},
   "source": [
    "## Резултат на public leaderboard ~0.83"
   ]
  },
  {
   "cell_type": "markdown",
   "id": "c0ccc5d4",
   "metadata": {},
   "source": [
    "<div class=\"alert alert-info\">\n",
    "<b>Примечание 5:</b>\n",
    "Дополнительно проверялась  модель на основе <b>XGBoost</b> - результат на лидерборде <b>~0.76</b>"
   ]
  },
  {
   "cell_type": "markdown",
   "id": "05b95949",
   "metadata": {},
   "source": [
    "# 5.2. Как обученная модель предсказывает саму обучающую выборку"
   ]
  },
  {
   "cell_type": "code",
   "execution_count": 51,
   "id": "0596c211",
   "metadata": {
    "scrolled": false
   },
   "outputs": [
    {
     "data": {
      "image/png": "[encoded data removed]",
      "text/plain": [
       "<Figure size 864x576 with 2 Axes>"
      ]
     },
     "metadata": {
      "needs_background": "light"
     },
     "output_type": "display_data"
    }
   ],
   "source": [
    "pred = CBC.predict(X) \n",
    "cf_matrix = confusion_matrix(y, pred)\n",
    "plt.figure(figsize=(12,8))\n",
    "ax = sns.heatmap(cf_matrix, annot=True, fmt='d', cmap='Blues')\n",
    "ax.set_title('Confusion Matrix\\n\\n');\n",
    "ax.set_xlabel('\\nprediction_test')\n",
    "ax.set_ylabel('target_test');\n",
    "ax.xaxis.set_ticklabels(['False','True'])\n",
    "ax.yaxis.set_ticklabels(['False','True'])\n",
    "plt.show()"
   ]
  },
  {
   "cell_type": "code",
   "execution_count": 52,
   "id": "2f69045e",
   "metadata": {},
   "outputs": [
    {
     "name": "stdout",
     "output_type": "stream",
     "text": [
      "Значение метрики Recall на train:  0.7009086352826306\n"
     ]
    }
   ],
   "source": [
    "print(\"Значение метрики Recall на train: \", recall_score(y, pred, average='macro'))"
   ]
  },
  {
   "attachments": {},
   "cell_type": "markdown",
   "id": "e9ea8ff0",
   "metadata": {},
   "source": [
    "# 6. Выводы по результатам работы с данными"
   ]
  },
  {
   "attachments": {},
   "cell_type": "markdown",
   "id": "d1b43d88",
   "metadata": {},
   "source": [
    "## 6.1. ДНС-запросы к сайтам конкурентов целесообразно разбить на две категории (посещали ушедшие или нет).\n",
    "\n",
    "## 6.2. Признаки по количеству ДНС-запросов целесообразно разделить на двухнедельные периоды.\n",
    "\n",
    "## 6.3. Типы обращений целесообразно разбить на три категории, в зависимости от частоты обращений ушедших. Пороговые значения для разбивки необходимо подбирать с помощью дополнительного анализа в зависимости от набора исходных данных.\n",
    "\n",
    "## 6.4. Признаки по количеству типов обращений на периоде наблюдений менее двух месяцев по периодам разбивать не целесообразно."
   ]
  },
  {
   "cell_type": "markdown",
   "id": "b2dfd497",
   "metadata": {},
   "source": [
    "# 7. Рекомендации для бизнеса"
   ]
  },
  {
   "cell_type": "markdown",
   "id": "467cfb14",
   "metadata": {},
   "source": [
    "## 7.1. Использовать модель для выявления пользователей, которые потенциально готовы уйти к конкурентам, для проведения адресной работы с ними, с целью предотвратить уход.\n",
    "\n",
    "## 7.2. В связи стем, что обучение модели производилось с использованием oversampling (добавления синтетических образцов меньшего класса, в нашем случае - класса ушедших пользователей), модель с избытком предсказывает этот класс. Мы видим по Confusion Matrix из пп. 5.2. проекта, что модель отнесла по обучающей выборке 1392 не ушедших пользователя к категории ушедших. Это значит, что на месте компании необходимо рассмотреть внимательнее эту категорию пользователей и также провести с ними адресную работу, так как это потенциальные перебежчики к конкурентам."
   ]
  },
  {
   "cell_type": "code",
   "execution_count": null,
   "id": "3da310e2",
   "metadata": {},
   "outputs": [],
   "source": []
  }
 ],
 "metadata": {
  "kernelspec": {
   "display_name": "Python 3 (ipykernel)",
   "language": "python",
   "name": "python3"
  },
  "language_info": {
   "codemirror_mode": {
    "name": "ipython",
    "version": 3
   },
   "file_extension": ".py",
   "mimetype": "text/x-python",
   "name": "python",
   "nbconvert_exporter": "python",
   "pygments_lexer": "ipython3",
   "version": "3.9.10"
  }
 },
 "nbformat": 4,
 "nbformat_minor": 5
}
